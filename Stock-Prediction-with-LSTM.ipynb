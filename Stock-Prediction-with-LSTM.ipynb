{
 "cells": [
  {
   "cell_type": "code",
   "execution_count": 169,
   "metadata": {},
   "outputs": [],
   "source": [
    "import numpy as np  \n",
    "import matplotlib.pyplot as plt\n",
    "import seaborn as sns\n",
    "sns.set()\n",
    "import pandas as pd\n",
    "from sklearn.preprocessing import MinMaxScaler"
   ]
  },
  {
   "cell_type": "markdown",
   "metadata": {},
   "source": [
    "Past 5 year history of Apple stock is downloaded from the Yahoo Finance website as training set. For testing 1 month history for Month of January is used. \n",
    "[Link for download.](https://finance.yahoo.com/quote/AAPL/history?period1=1357016400&period2=1514782800&interval=1d&filter=history&frequency=1d)"
   ]
  },
  {
   "cell_type": "code",
   "execution_count": 170,
   "metadata": {},
   "outputs": [],
   "source": [
    "df_train = pd.read_csv('AAPL-2013-2018.csv')  "
   ]
  },
  {
   "cell_type": "code",
   "execution_count": 171,
   "metadata": {},
   "outputs": [
    {
     "data": {
      "text/html": [
       "<div>\n",
       "<style scoped>\n",
       "    .dataframe tbody tr th:only-of-type {\n",
       "        vertical-align: middle;\n",
       "    }\n",
       "\n",
       "    .dataframe tbody tr th {\n",
       "        vertical-align: top;\n",
       "    }\n",
       "\n",
       "    .dataframe thead th {\n",
       "        text-align: right;\n",
       "    }\n",
       "</style>\n",
       "<table border=\"1\" class=\"dataframe\">\n",
       "  <thead>\n",
       "    <tr style=\"text-align: right;\">\n",
       "      <th></th>\n",
       "      <th>Date</th>\n",
       "      <th>Open</th>\n",
       "      <th>High</th>\n",
       "      <th>Low</th>\n",
       "      <th>Close</th>\n",
       "      <th>Adj Close</th>\n",
       "      <th>Volume</th>\n",
       "    </tr>\n",
       "  </thead>\n",
       "  <tbody>\n",
       "    <tr>\n",
       "      <th>0</th>\n",
       "      <td>2013-01-02</td>\n",
       "      <td>79.117142</td>\n",
       "      <td>79.285713</td>\n",
       "      <td>77.375717</td>\n",
       "      <td>78.432854</td>\n",
       "      <td>55.684914</td>\n",
       "      <td>140129500</td>\n",
       "    </tr>\n",
       "    <tr>\n",
       "      <th>1</th>\n",
       "      <td>2013-01-03</td>\n",
       "      <td>78.268570</td>\n",
       "      <td>78.524284</td>\n",
       "      <td>77.285713</td>\n",
       "      <td>77.442856</td>\n",
       "      <td>54.982059</td>\n",
       "      <td>88241300</td>\n",
       "    </tr>\n",
       "    <tr>\n",
       "      <th>2</th>\n",
       "      <td>2013-01-04</td>\n",
       "      <td>76.709999</td>\n",
       "      <td>76.947144</td>\n",
       "      <td>75.118568</td>\n",
       "      <td>75.285713</td>\n",
       "      <td>53.450539</td>\n",
       "      <td>148583400</td>\n",
       "    </tr>\n",
       "    <tr>\n",
       "      <th>3</th>\n",
       "      <td>2013-01-07</td>\n",
       "      <td>74.571426</td>\n",
       "      <td>75.614288</td>\n",
       "      <td>73.599998</td>\n",
       "      <td>74.842857</td>\n",
       "      <td>53.136124</td>\n",
       "      <td>121039100</td>\n",
       "    </tr>\n",
       "    <tr>\n",
       "      <th>4</th>\n",
       "      <td>2013-01-08</td>\n",
       "      <td>75.601425</td>\n",
       "      <td>75.984283</td>\n",
       "      <td>74.464287</td>\n",
       "      <td>75.044289</td>\n",
       "      <td>53.279137</td>\n",
       "      <td>114676800</td>\n",
       "    </tr>\n",
       "  </tbody>\n",
       "</table>\n",
       "</div>"
      ],
      "text/plain": [
       "         Date       Open       High        Low      Close  Adj Close  \\\n",
       "0  2013-01-02  79.117142  79.285713  77.375717  78.432854  55.684914   \n",
       "1  2013-01-03  78.268570  78.524284  77.285713  77.442856  54.982059   \n",
       "2  2013-01-04  76.709999  76.947144  75.118568  75.285713  53.450539   \n",
       "3  2013-01-07  74.571426  75.614288  73.599998  74.842857  53.136124   \n",
       "4  2013-01-08  75.601425  75.984283  74.464287  75.044289  53.279137   \n",
       "\n",
       "      Volume  \n",
       "0  140129500  \n",
       "1   88241300  \n",
       "2  148583400  \n",
       "3  121039100  \n",
       "4  114676800  "
      ]
     },
     "execution_count": 171,
     "metadata": {},
     "output_type": "execute_result"
    }
   ],
   "source": [
    "df_train.head()"
   ]
  },
  {
   "cell_type": "code",
   "execution_count": 172,
   "metadata": {},
   "outputs": [
    {
     "data": {
      "text/plain": [
       "<matplotlib.axes._subplots.AxesSubplot at 0x1a35416cf8>"
      ]
     },
     "execution_count": 172,
     "metadata": {},
     "output_type": "execute_result"
    },
    {
     "data": {
      "image/png": "[encoded data removed]",
      "text/plain": [
       "<Figure size 432x288 with 1 Axes>"
      ]
     },
     "metadata": {},
     "output_type": "display_data"
    }
   ],
   "source": [
    "df_train.plot(x='Date',y='Open')"
   ]
  },
  {
   "cell_type": "code",
   "execution_count": 173,
   "metadata": {},
   "outputs": [
    {
     "data": {
      "text/plain": [
       "(1259, 7)"
      ]
     },
     "execution_count": 173,
     "metadata": {},
     "output_type": "execute_result"
    }
   ],
   "source": [
    "df_train.shape"
   ]
  },
  {
   "cell_type": "markdown",
   "metadata": {},
   "source": [
    "**Filtering data**\n",
    "\n",
    "For prediction purposes, only stock price at opening of stock market for that day is of interest. So only this columns value is retained and all other columns are not used. "
   ]
  },
  {
   "cell_type": "code",
   "execution_count": 174,
   "metadata": {},
   "outputs": [],
   "source": [
    "df_train_processed = df_train.iloc[:, 1:2].values"
   ]
  },
  {
   "cell_type": "code",
   "execution_count": 175,
   "metadata": {},
   "outputs": [
    {
     "data": {
      "text/plain": [
       "array([79.117142])"
      ]
     },
     "execution_count": 175,
     "metadata": {},
     "output_type": "execute_result"
    }
   ],
   "source": [
    "df_train_processed[0]"
   ]
  },
  {
   "cell_type": "markdown",
   "metadata": {},
   "source": [
    "**Feature Scaling**\n",
    "\n",
    "Data is then scaled with minmax scalar transformation in the range of 0-1"
   ]
  },
  {
   "cell_type": "code",
   "execution_count": 176,
   "metadata": {},
   "outputs": [],
   "source": [
    "scaler = MinMaxScaler(feature_range = (0, 1))\n",
    "df_train_scaled = scaler.fit_transform(df_train_processed)"
   ]
  },
  {
   "cell_type": "markdown",
   "metadata": {},
   "source": [
    "**Data manipulation**\n",
    "\n",
    "For time series prediction, past 60 day data is used to predict stock price at 61st day. \n",
    "\n",
    "Following function modifies input data to create feature set and labels. Each feature set contains 60 observations and corresponding stock price for next day. "
   ]
  },
  {
   "cell_type": "code",
   "execution_count": 177,
   "metadata": {},
   "outputs": [],
   "source": [
    "features_set = []  \n",
    "labels = []  \n",
    "for i in range(60, 1259):  \n",
    "    features_set.append(df_train_scaled[i-60:i, 0])\n",
    "    labels.append(df_train_scaled[i, 0])"
   ]
  },
  {
   "cell_type": "code",
   "execution_count": 178,
   "metadata": {},
   "outputs": [],
   "source": [
    "features_set, labels = np.array(features_set), np.array(labels)  "
   ]
  },
  {
   "cell_type": "code",
   "execution_count": 179,
   "metadata": {},
   "outputs": [
    {
     "data": {
      "text/plain": [
       "(1199, 60)"
      ]
     },
     "execution_count": 179,
     "metadata": {},
     "output_type": "execute_result"
    }
   ],
   "source": [
    "features_set.shape"
   ]
  },
  {
   "cell_type": "code",
   "execution_count": 180,
   "metadata": {},
   "outputs": [
    {
     "data": {
      "text/plain": [
       "(1199,)"
      ]
     },
     "execution_count": 180,
     "metadata": {},
     "output_type": "execute_result"
    }
   ],
   "source": [
    "labels.shape"
   ]
  },
  {
   "cell_type": "markdown",
   "metadata": {},
   "source": [
    "For data to be read by LSTM, it is necessary to reshape the data in the format as required, which will be Nrows x Ncolumns x 1. Number 1 used here because we are predicting one feature.  "
   ]
  },
  {
   "cell_type": "code",
   "execution_count": 181,
   "metadata": {},
   "outputs": [],
   "source": [
    "features_set = np.reshape(features_set, (features_set.shape[0], features_set.shape[1], 1))  "
   ]
  },
  {
   "cell_type": "code",
   "execution_count": 182,
   "metadata": {},
   "outputs": [],
   "source": [
    "from keras.models import Sequential  \n",
    "from keras.layers import Dense  \n",
    "from keras.layers import LSTM  \n",
    "from keras.layers import Dropout "
   ]
  },
  {
   "cell_type": "code",
   "execution_count": 183,
   "metadata": {},
   "outputs": [],
   "source": [
    "model = Sequential()\n",
    "\n",
    "model.add(LSTM(units=60, return_sequences=True))  #Return_sequences=true as we add more layers to the model\n",
    "model.add(Dropout(0.2))\n",
    "\n",
    "model.add(LSTM(units=60, return_sequences=True))  \n",
    "model.add(Dropout(0.2))\n",
    "\n",
    "model.add(LSTM(units=60))  \n",
    "model.add(Dropout(0.2)) \n",
    "model.add(Dense(units = 1))\n",
    "model.compile(optimizer = 'adam', loss = 'mean_squared_error')"
   ]
  },
  {
   "cell_type": "code",
   "execution_count": 184,
   "metadata": {},
   "outputs": [
    {
     "name": "stdout",
     "output_type": "stream",
     "text": [
      "Epoch 1/100\n",
      "1199/1199 [==============================] - 7s 6ms/step - loss: 0.0374\n",
      "Epoch 2/100\n",
      "1199/1199 [==============================] - 5s 4ms/step - loss: 0.0040\n",
      "Epoch 3/100\n",
      "1199/1199 [==============================] - 5s 4ms/step - loss: 0.0033\n",
      "Epoch 4/100\n",
      "1199/1199 [==============================] - 5s 4ms/step - loss: 0.0036\n",
      "Epoch 5/100\n",
      "1199/1199 [==============================] - 5s 4ms/step - loss: 0.0033\n",
      "Epoch 6/100\n",
      "1199/1199 [==============================] - 5s 4ms/step - loss: 0.0030\n",
      "Epoch 7/100\n",
      "1199/1199 [==============================] - 5s 4ms/step - loss: 0.0027\n",
      "Epoch 8/100\n",
      "1199/1199 [==============================] - 5s 4ms/step - loss: 0.0028\n",
      "Epoch 9/100\n",
      "1199/1199 [==============================] - 5s 4ms/step - loss: 0.0026\n",
      "Epoch 10/100\n",
      "1199/1199 [==============================] - 5s 4ms/step - loss: 0.0028\n",
      "Epoch 11/100\n",
      "1199/1199 [==============================] - 5s 4ms/step - loss: 0.0027\n",
      "Epoch 12/100\n",
      "1199/1199 [==============================] - 5s 4ms/step - loss: 0.0025\n",
      "Epoch 13/100\n",
      "1199/1199 [==============================] - 5s 4ms/step - loss: 0.0023\n",
      "Epoch 14/100\n",
      "1199/1199 [==============================] - 5s 4ms/step - loss: 0.0024\n",
      "Epoch 15/100\n",
      "1199/1199 [==============================] - 5s 4ms/step - loss: 0.0023\n",
      "Epoch 16/100\n",
      "1199/1199 [==============================] - 5s 4ms/step - loss: 0.0024\n",
      "Epoch 17/100\n",
      "1199/1199 [==============================] - 5s 4ms/step - loss: 0.0025\n",
      "Epoch 18/100\n",
      "1199/1199 [==============================] - 5s 4ms/step - loss: 0.0023\n",
      "Epoch 19/100\n",
      "1199/1199 [==============================] - 5s 4ms/step - loss: 0.0020\n",
      "Epoch 20/100\n",
      "1199/1199 [==============================] - 5s 4ms/step - loss: 0.0022\n",
      "Epoch 21/100\n",
      "1199/1199 [==============================] - 5s 4ms/step - loss: 0.0023\n",
      "Epoch 22/100\n",
      "1199/1199 [==============================] - 5s 4ms/step - loss: 0.0026\n",
      "Epoch 23/100\n",
      "1199/1199 [==============================] - 5s 4ms/step - loss: 0.0022\n",
      "Epoch 24/100\n",
      "1199/1199 [==============================] - 5s 4ms/step - loss: 0.0019\n",
      "Epoch 25/100\n",
      "1199/1199 [==============================] - 5s 4ms/step - loss: 0.0020\n",
      "Epoch 26/100\n",
      "1199/1199 [==============================] - 5s 4ms/step - loss: 0.0019\n",
      "Epoch 27/100\n",
      "1199/1199 [==============================] - 5s 4ms/step - loss: 0.0017\n",
      "Epoch 28/100\n",
      "1199/1199 [==============================] - 5s 4ms/step - loss: 0.0018\n",
      "Epoch 29/100\n",
      "1199/1199 [==============================] - 5s 4ms/step - loss: 0.0022\n",
      "Epoch 30/100\n",
      "1199/1199 [==============================] - 5s 4ms/step - loss: 0.0018\n",
      "Epoch 31/100\n",
      "1199/1199 [==============================] - 5s 4ms/step - loss: 0.0019\n",
      "Epoch 32/100\n",
      "1199/1199 [==============================] - 5s 4ms/step - loss: 0.0018\n",
      "Epoch 33/100\n",
      "1199/1199 [==============================] - 5s 4ms/step - loss: 0.0018\n",
      "Epoch 34/100\n",
      "1199/1199 [==============================] - 5s 4ms/step - loss: 0.0017\n",
      "Epoch 35/100\n",
      "1199/1199 [==============================] - 5s 4ms/step - loss: 0.0017\n",
      "Epoch 36/100\n",
      "1199/1199 [==============================] - 5s 4ms/step - loss: 0.0017\n",
      "Epoch 37/100\n",
      "1199/1199 [==============================] - 5s 4ms/step - loss: 0.0018\n",
      "Epoch 38/100\n",
      "1199/1199 [==============================] - 5s 4ms/step - loss: 0.0017\n",
      "Epoch 39/100\n",
      "1199/1199 [==============================] - 5s 4ms/step - loss: 0.0019\n",
      "Epoch 40/100\n",
      "1199/1199 [==============================] - 5s 4ms/step - loss: 0.0015\n",
      "Epoch 41/100\n",
      "1199/1199 [==============================] - 5s 4ms/step - loss: 0.0016\n",
      "Epoch 42/100\n",
      "1199/1199 [==============================] - 5s 4ms/step - loss: 0.0017\n",
      "Epoch 43/100\n",
      "1199/1199 [==============================] - 5s 4ms/step - loss: 0.0021\n",
      "Epoch 44/100\n",
      "1199/1199 [==============================] - 5s 4ms/step - loss: 0.0017\n",
      "Epoch 45/100\n",
      "1199/1199 [==============================] - 5s 4ms/step - loss: 0.0017\n",
      "Epoch 46/100\n",
      "1199/1199 [==============================] - 5s 4ms/step - loss: 0.0017\n",
      "Epoch 47/100\n",
      "1199/1199 [==============================] - 5s 4ms/step - loss: 0.0016\n",
      "Epoch 48/100\n",
      "1199/1199 [==============================] - 5s 4ms/step - loss: 0.0014\n",
      "Epoch 49/100\n",
      "1199/1199 [==============================] - 5s 4ms/step - loss: 0.0015\n",
      "Epoch 50/100\n",
      "1199/1199 [==============================] - 5s 4ms/step - loss: 0.0017\n",
      "Epoch 51/100\n",
      "1199/1199 [==============================] - 5s 4ms/step - loss: 0.0014\n",
      "Epoch 52/100\n",
      "1199/1199 [==============================] - 5s 4ms/step - loss: 0.0015\n",
      "Epoch 53/100\n",
      "1199/1199 [==============================] - 5s 4ms/step - loss: 0.0018\n",
      "Epoch 54/100\n",
      "1199/1199 [==============================] - 5s 4ms/step - loss: 0.0014\n",
      "Epoch 55/100\n",
      "1199/1199 [==============================] - 5s 4ms/step - loss: 0.0013\n",
      "Epoch 56/100\n",
      "1199/1199 [==============================] - 5s 4ms/step - loss: 0.0012\n",
      "Epoch 57/100\n",
      "1199/1199 [==============================] - 5s 4ms/step - loss: 0.0012\n",
      "Epoch 58/100\n",
      "1199/1199 [==============================] - 5s 4ms/step - loss: 0.0013\n",
      "Epoch 59/100\n",
      "1199/1199 [==============================] - 5s 4ms/step - loss: 0.0015\n",
      "Epoch 60/100\n",
      "1199/1199 [==============================] - 5s 4ms/step - loss: 0.0015\n",
      "Epoch 61/100\n",
      "1199/1199 [==============================] - 5s 4ms/step - loss: 0.0013\n",
      "Epoch 62/100\n",
      "1199/1199 [==============================] - 5s 4ms/step - loss: 0.0013\n",
      "Epoch 63/100\n",
      "1199/1199 [==============================] - 5s 4ms/step - loss: 0.0014\n",
      "Epoch 64/100\n",
      "1199/1199 [==============================] - 5s 4ms/step - loss: 0.0011\n",
      "Epoch 65/100\n",
      "1199/1199 [==============================] - 5s 4ms/step - loss: 0.0012\n",
      "Epoch 66/100\n",
      "1199/1199 [==============================] - 5s 4ms/step - loss: 0.0013\n",
      "Epoch 67/100\n",
      "1199/1199 [==============================] - 5s 4ms/step - loss: 0.0011\n",
      "Epoch 68/100\n",
      "1199/1199 [==============================] - 5s 4ms/step - loss: 0.0012\n",
      "Epoch 69/100\n",
      "1199/1199 [==============================] - 5s 4ms/step - loss: 0.0011\n",
      "Epoch 70/100\n",
      "1199/1199 [==============================] - 5s 4ms/step - loss: 0.0013\n",
      "Epoch 71/100\n",
      "1199/1199 [==============================] - 5s 4ms/step - loss: 0.0011\n",
      "Epoch 72/100\n",
      "1199/1199 [==============================] - 5s 4ms/step - loss: 0.0010\n",
      "Epoch 73/100\n",
      "1199/1199 [==============================] - 5s 4ms/step - loss: 0.0011\n",
      "Epoch 74/100\n",
      "1199/1199 [==============================] - 5s 4ms/step - loss: 0.0011\n",
      "Epoch 75/100\n",
      "1199/1199 [==============================] - 6s 5ms/step - loss: 0.0015\n",
      "Epoch 76/100\n",
      "1199/1199 [==============================] - 9s 8ms/step - loss: 0.0012\n",
      "Epoch 77/100\n",
      "1199/1199 [==============================] - 9s 7ms/step - loss: 0.0011\n",
      "Epoch 78/100\n",
      "1199/1199 [==============================] - 9s 7ms/step - loss: 0.0010\n",
      "Epoch 79/100\n",
      "1199/1199 [==============================] - 9s 7ms/step - loss: 0.0011\n",
      "Epoch 80/100\n",
      "1199/1199 [==============================] - 9s 7ms/step - loss: 0.0011\n",
      "Epoch 81/100\n",
      "1199/1199 [==============================] - 6s 5ms/step - loss: 0.0012\n",
      "Epoch 82/100\n",
      "1199/1199 [==============================] - 5s 4ms/step - loss: 0.0011\n",
      "Epoch 83/100\n",
      "1199/1199 [==============================] - 5s 4ms/step - loss: 9.4470e-04\n",
      "Epoch 84/100\n",
      "1199/1199 [==============================] - 5s 4ms/step - loss: 0.0012\n",
      "Epoch 85/100\n",
      "1199/1199 [==============================] - 5s 4ms/step - loss: 0.0012\n",
      "Epoch 86/100\n",
      "1199/1199 [==============================] - 5s 4ms/step - loss: 0.0010\n",
      "Epoch 87/100\n",
      "1199/1199 [==============================] - 5s 4ms/step - loss: 0.0011\n",
      "Epoch 88/100\n",
      "1199/1199 [==============================] - 5s 4ms/step - loss: 9.8065e-04\n",
      "Epoch 89/100\n",
      "1199/1199 [==============================] - 5s 4ms/step - loss: 0.0010\n",
      "Epoch 90/100\n",
      "1199/1199 [==============================] - 5s 4ms/step - loss: 9.6762e-04\n",
      "Epoch 91/100\n",
      "1199/1199 [==============================] - 5s 4ms/step - loss: 9.4082e-04\n",
      "Epoch 92/100\n",
      "1199/1199 [==============================] - 5s 4ms/step - loss: 0.0012\n",
      "Epoch 93/100\n",
      "1199/1199 [==============================] - 5s 4ms/step - loss: 9.5135e-04\n",
      "Epoch 94/100\n",
      "1199/1199 [==============================] - 5s 4ms/step - loss: 9.9797e-04\n",
      "Epoch 95/100\n",
      "1199/1199 [==============================] - 5s 4ms/step - loss: 9.1091e-04\n",
      "Epoch 96/100\n",
      "1199/1199 [==============================] - 5s 4ms/step - loss: 9.4016e-04\n",
      "Epoch 97/100\n"
     ]
    },
    {
     "name": "stdout",
     "output_type": "stream",
     "text": [
      "1199/1199 [==============================] - 5s 4ms/step - loss: 9.5271e-04\n",
      "Epoch 98/100\n",
      "1199/1199 [==============================] - 5s 4ms/step - loss: 8.7528e-04\n",
      "Epoch 99/100\n",
      "1199/1199 [==============================] - 5s 4ms/step - loss: 9.0177e-04\n",
      "Epoch 100/100\n",
      "1199/1199 [==============================] - 5s 4ms/step - loss: 8.5112e-04\n"
     ]
    },
    {
     "data": {
      "text/plain": [
       "<keras.callbacks.History at 0x1a357c8da0>"
      ]
     },
     "execution_count": 184,
     "metadata": {},
     "output_type": "execute_result"
    }
   ],
   "source": [
    "model.fit(features_set, labels, epochs = 100, batch_size = 30)  "
   ]
  },
  {
   "cell_type": "markdown",
   "metadata": {},
   "source": [
    "**Model predictions**\n",
    "\n",
    "LSTM model is now used to predicting stock prices for month of January 2018.  "
   ]
  },
  {
   "cell_type": "code",
   "execution_count": 185,
   "metadata": {},
   "outputs": [],
   "source": [
    "df_test = pd.read_csv('AAPL-Jan18.csv')  \n",
    "df_test_processed = df_test.iloc[:, 1:2].values  #Again dropping the columns except 'Open'"
   ]
  },
  {
   "cell_type": "code",
   "execution_count": 186,
   "metadata": {},
   "outputs": [
    {
     "data": {
      "text/plain": [
       "(21, 7)"
      ]
     },
     "execution_count": 186,
     "metadata": {},
     "output_type": "execute_result"
    }
   ],
   "source": [
    "df_test.shape"
   ]
  },
  {
   "cell_type": "code",
   "execution_count": 187,
   "metadata": {},
   "outputs": [
    {
     "data": {
      "text/plain": [
       "<matplotlib.axes._subplots.AxesSubplot at 0x1a379b1a20>"
      ]
     },
     "execution_count": 187,
     "metadata": {},
     "output_type": "execute_result"
    },
    {
     "data": {
      "image/png": "[encoded data removed]",
      "text/plain": [
       "<Figure size 432x288 with 1 Axes>"
      ]
     },
     "metadata": {},
     "output_type": "display_data"
    }
   ],
   "source": [
    "df_test.plot(x='Date',y='Open')"
   ]
  },
  {
   "cell_type": "markdown",
   "metadata": {},
   "source": [
    "For each of the 21 days, we need corresponding 60 days historical data. This will enable us to predict the stock price for that day by passing historical data to the model. "
   ]
  },
  {
   "cell_type": "code",
   "execution_count": 285,
   "metadata": {},
   "outputs": [],
   "source": [
    "df_combined = pd.concat((df_train['Open'], df_test['Open']), axis=0)  \n",
    "test_inputs = df_combined[len(df_combined) - len(df_test) - 60:].values  "
   ]
  },
  {
   "cell_type": "code",
   "execution_count": 286,
   "metadata": {},
   "outputs": [
    {
     "data": {
      "text/plain": [
       "array([154.179993, 154.970001, 155.809998, 156.059998, 155.970001])"
      ]
     },
     "execution_count": 286,
     "metadata": {},
     "output_type": "execute_result"
    }
   ],
   "source": [
    "test_inputs[0:5]"
   ]
  },
  {
   "cell_type": "code",
   "execution_count": 287,
   "metadata": {},
   "outputs": [
    {
     "data": {
      "text/plain": [
       "array([[154.179993],\n",
       "       [154.970001],\n",
       "       [155.809998],\n",
       "       [156.059998],\n",
       "       [155.970001]])"
      ]
     },
     "execution_count": 287,
     "metadata": {},
     "output_type": "execute_result"
    }
   ],
   "source": [
    "test_inputs = test_inputs.reshape(-1,1)\n",
    "test_plot = test_inputs\n",
    "test_inputs[0:5]"
   ]
  },
  {
   "cell_type": "code",
   "execution_count": 288,
   "metadata": {},
   "outputs": [],
   "source": [
    "test_inputs = scaler.transform(test_inputs) # Scaling the data with MinMax scaler"
   ]
  },
  {
   "cell_type": "code",
   "execution_count": 289,
   "metadata": {},
   "outputs": [],
   "source": [
    "test_features = []  \n",
    "for i in range(60, 81):  \n",
    "    test_features.append(test_inputs[i-60:i, 0])"
   ]
  },
  {
   "cell_type": "code",
   "execution_count": 290,
   "metadata": {},
   "outputs": [],
   "source": [
    "test_features = np.array(test_features)  \n",
    "test_features = np.reshape(test_features, (test_features.shape[0], test_features.shape[1], 1)) "
   ]
  },
  {
   "cell_type": "code",
   "execution_count": 291,
   "metadata": {},
   "outputs": [],
   "source": [
    "predictions = model.predict(test_features)  "
   ]
  },
  {
   "cell_type": "code",
   "execution_count": 292,
   "metadata": {},
   "outputs": [],
   "source": [
    "predictions = scaler.inverse_transform(predictions)"
   ]
  },
  {
   "cell_type": "code",
   "execution_count": 293,
   "metadata": {},
   "outputs": [
    {
     "data": {
      "image/png": "[encoded data removed]",
      "text/plain": [
       "<Figure size 864x576 with 1 Axes>"
      ]
     },
     "metadata": {},
     "output_type": "display_data"
    }
   ],
   "source": [
    "plt.figure(figsize=(12,8))  \n",
    "plt.plot(apple_testing_processed, color='blue', label='Actual Price')  \n",
    "plt.plot(predictions, color='red', label='Predicted Price')  \n",
    "plt.title('Apple Stock Price Prediction with LSTM')  \n",
    "plt.xlabel('Day')  \n",
    "plt.ylabel('Stock Price') \n",
    "plt.ylim(150,200)\n",
    "plt.legend()  \n",
    "plt.show()"
   ]
  },
  {
   "cell_type": "code",
   "execution_count": 294,
   "metadata": {},
   "outputs": [
    {
     "name": "stdout",
     "output_type": "stream",
     "text": [
      "Root mean squared error is $2.81\n"
     ]
    }
   ],
   "source": [
    "from sklearn.metrics import mean_squared_error\n",
    "import math\n",
    "\n",
    "error = math.sqrt(mean_squared_error(predictions,df_test_processed))\n",
    "print (f'Root mean squared error is ${error:.2f}')"
   ]
  },
  {
   "cell_type": "markdown",
   "metadata": {},
   "source": [
    "**Reference**\n",
    "\n",
    "This notebook is based on the work [here](https://stackabuse.com/time-series-analysis-with-lstm-using-pythons-keras-library/) and [here](https://blog.usejournal.com/stock-market-prediction-by-recurrent-neural-network-on-lstm-model-56de700bff68)"
   ]
  }
 ],
 "metadata": {
  "kernelspec": {
   "display_name": "Python 3",
   "language": "python",
   "name": "python3"
  },
  "language_info": {
   "codemirror_mode": {
    "name": "ipython",
    "version": 3
   },
   "file_extension": ".py",
   "mimetype": "text/x-python",
   "name": "python",
   "nbconvert_exporter": "python",
   "pygments_lexer": "ipython3",
   "version": "3.7.0"
  }
 },
 "nbformat": 4,
 "nbformat_minor": 2
}
